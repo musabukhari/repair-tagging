{
 "cells": [
  {
   "cell_type": "markdown",
   "id": "criminal-edwards",
   "metadata": {},
   "source": [
    "### Section 1: Data extraction from Convokit's switchboard corpus\n",
    "\n",
    "\n",
    "\n",
    "\n"
   ]
  },
  {
   "cell_type": "code",
   "execution_count": 100,
   "id": "reduced-robert",
   "metadata": {},
   "outputs": [
    {
     "data": {
      "text/html": [
       "\n",
       "  <style>\n",
       "    pre {\n",
       "        white-space: pre-wrap;\n",
       "    }\n",
       "  </style>\n",
       "  "
      ],
      "text/plain": [
       "<IPython.core.display.HTML object>"
      ]
     },
     "metadata": {},
     "output_type": "display_data"
    }
   ],
   "source": [
    "### Imports \n",
    "from convokit import Corpus, download\n",
    "import pandas as pd"
   ]
  },
  {
   "cell_type": "code",
   "execution_count": 101,
   "id": "universal-oriental",
   "metadata": {},
   "outputs": [
    {
     "data": {
      "text/html": [
       "\n",
       "  <style>\n",
       "    pre {\n",
       "        white-space: pre-wrap;\n",
       "    }\n",
       "  </style>\n",
       "  "
      ],
      "text/plain": [
       "<IPython.core.display.HTML object>"
      ]
     },
     "metadata": {},
     "output_type": "display_data"
    }
   ],
   "source": [
    "# for pretty printing of cells within the Colab version of this notebook\n",
    "from IPython.display import HTML, display\n",
    "\n",
    "def set_css():\n",
    "  display(HTML('''\n",
    "  <style>\n",
    "    pre {\n",
    "        white-space: pre-wrap;\n",
    "    }\n",
    "  </style>\n",
    "  '''))\n",
    "get_ipython().events.register('pre_run_cell', set_css)"
   ]
  },
  {
   "cell_type": "code",
   "execution_count": 102,
   "id": "suited-antique",
   "metadata": {},
   "outputs": [
    {
     "data": {
      "text/html": [
       "\n",
       "  <style>\n",
       "    pre {\n",
       "        white-space: pre-wrap;\n",
       "    }\n",
       "  </style>\n",
       "  "
      ],
      "text/plain": [
       "<IPython.core.display.HTML object>"
      ]
     },
     "metadata": {},
     "output_type": "display_data"
    },
    {
     "data": {
      "text/html": [
       "\n",
       "  <style>\n",
       "    pre {\n",
       "        white-space: pre-wrap;\n",
       "    }\n",
       "  </style>\n",
       "  "
      ],
      "text/plain": [
       "<IPython.core.display.HTML object>"
      ]
     },
     "metadata": {},
     "output_type": "display_data"
    }
   ],
   "source": [
    "### Globals\n",
    "\n",
    "corpus_name = \"switchboard-corpus\""
   ]
  },
  {
   "cell_type": "code",
   "execution_count": 103,
   "id": "variable-childhood",
   "metadata": {},
   "outputs": [
    {
     "data": {
      "text/html": [
       "\n",
       "  <style>\n",
       "    pre {\n",
       "        white-space: pre-wrap;\n",
       "    }\n",
       "  </style>\n",
       "  "
      ],
      "text/plain": [
       "<IPython.core.display.HTML object>"
      ]
     },
     "metadata": {},
     "output_type": "display_data"
    },
    {
     "data": {
      "text/html": [
       "\n",
       "  <style>\n",
       "    pre {\n",
       "        white-space: pre-wrap;\n",
       "    }\n",
       "  </style>\n",
       "  "
      ],
      "text/plain": [
       "<IPython.core.display.HTML object>"
      ]
     },
     "metadata": {},
     "output_type": "display_data"
    },
    {
     "name": "stdout",
     "output_type": "stream",
     "text": [
      "Dataset already exists at /Users/muhammadumair/.convokit/downloads/switchboard-corpus\n"
     ]
    }
   ],
   "source": [
    "swbc = Corpus(filename=download(corpus_name))"
   ]
  },
  {
   "cell_type": "code",
   "execution_count": 104,
   "id": "assigned-insured",
   "metadata": {},
   "outputs": [
    {
     "data": {
      "text/html": [
       "\n",
       "  <style>\n",
       "    pre {\n",
       "        white-space: pre-wrap;\n",
       "    }\n",
       "  </style>\n",
       "  "
      ],
      "text/plain": [
       "<IPython.core.display.HTML object>"
      ]
     },
     "metadata": {},
     "output_type": "display_data"
    },
    {
     "data": {
      "text/html": [
       "\n",
       "  <style>\n",
       "    pre {\n",
       "        white-space: pre-wrap;\n",
       "    }\n",
       "  </style>\n",
       "  "
      ],
      "text/plain": [
       "<IPython.core.display.HTML object>"
      ]
     },
     "metadata": {},
     "output_type": "display_data"
    },
    {
     "name": "stdout",
     "output_type": "stream",
     "text": [
      "Number of Speakers: 440\n",
      "Number of Utterances: 122646\n",
      "Number of Conversations: 1155\n",
      "None\n"
     ]
    }
   ],
   "source": [
    "# Each conversation has three components: Conversations, Utterances, and Speakers\n",
    "# Each component has: Primary data fields / Metadata\n",
    "print(swbc.print_summary_stats())"
   ]
  },
  {
   "cell_type": "code",
   "execution_count": 130,
   "id": "associate-algeria",
   "metadata": {},
   "outputs": [
    {
     "data": {
      "text/html": [
       "\n",
       "  <style>\n",
       "    pre {\n",
       "        white-space: pre-wrap;\n",
       "    }\n",
       "  </style>\n",
       "  "
      ],
      "text/plain": [
       "<IPython.core.display.HTML object>"
      ]
     },
     "metadata": {},
     "output_type": "display_data"
    },
    {
     "data": {
      "text/html": [
       "\n",
       "  <style>\n",
       "    pre {\n",
       "        white-space: pre-wrap;\n",
       "    }\n",
       "  </style>\n",
       "  "
      ],
      "text/plain": [
       "<IPython.core.display.HTML object>"
      ]
     },
     "metadata": {},
     "output_type": "display_data"
    }
   ],
   "source": [
    "### Extract all the utterances and tags in the conversations and store as a local CSV file\n",
    "\n",
    "# NOTE: Path changes per user\n",
    "output_dir_path = \"/Users/muhammadumair/Documents/Repositories/mumair01-Repos/repair-tagging/data\"\n",
    "\n",
    "# Collect a list of all of dataframes representing all utterances in every conversation. \n",
    "conv_utt_dataframes = list()\n",
    "conversation_ids = swbc.get_conversation_ids()\n",
    "for id_ in conversation_ids:\n",
    "    conv = swbc.get_conversation(id_)\n",
    "    conv_utt_dataframes.append(conv.get_utterances_dataframe())\n",
    "\n",
    "# For all utterances in every conversation, extract required values.\n",
    "for conv_utt_df in conv_utt_dataframes:\n",
    "    file_path = \"{}/{}.csv\".format(output_dir_path,conv_utt_df[\"conversation_id\"][0])\n",
    "    data = {\n",
    "        \"speakers\" : list(),\n",
    "        \"tags\" : list(),\n",
    "        \"utterances\" : list()}\n",
    "    \n",
    "    conv_utt_df = conv_utt_df[[\"speaker\",\"meta.tag\"]]\n",
    "    for index, utt in conv_utt_df.iterrows():\n",
    "        speaker = utt[\"speaker\"]\n",
    "        tagged_utts = utt[\"meta.tag\"]\n",
    "        for utterance in tagged_utts:\n",
    "            data[\"speakers\"].append(speaker)\n",
    "            data[\"utterances\"].append(utterance[0])\n",
    "            data[\"tags\"].append(utterance[1])\n",
    "        \n",
    "    df = pd.DataFrame(data)\n",
    "    df.to_csv(file_path,sep=\"\\t\")\n",
    "\n",
    "    \n",
    "    "
   ]
  },
  {
   "cell_type": "code",
   "execution_count": null,
   "id": "fancy-excitement",
   "metadata": {},
   "outputs": [],
   "source": []
  },
  {
   "cell_type": "code",
   "execution_count": null,
   "id": "dominican-modification",
   "metadata": {},
   "outputs": [],
   "source": []
  }
 ],
 "metadata": {
  "kernelspec": {
   "display_name": "Python 3",
   "language": "python",
   "name": "python3"
  },
  "language_info": {
   "codemirror_mode": {
    "name": "ipython",
    "version": 3
   },
   "file_extension": ".py",
   "mimetype": "text/x-python",
   "name": "python",
   "nbconvert_exporter": "python",
   "pygments_lexer": "ipython3",
   "version": "3.8.5"
  }
 },
 "nbformat": 4,
 "nbformat_minor": 5
}
